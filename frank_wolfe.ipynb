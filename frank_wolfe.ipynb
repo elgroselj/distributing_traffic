{
 "cells": [
  {
   "cell_type": "code",
   "execution_count": null,
   "metadata": {},
   "outputs": [],
   "source": [
    "from scipy.optimize import minimize\n",
    "def frank_wolfe(x0,df):\n",
    "    k = 0\n",
    "    x = x0\n",
    "    while(True):\n",
    "        alfa = 2/(k+2)\n",
    "        fun = lambda s: s*df(x) #skalarno\n",
    "        s = minimize(fun,x)\n",
    "        x = x + alfa(s-x)\n",
    "        k+=1\n",
    "        "
   ]
  },
  {
   "cell_type": "code",
   "execution_count": null,
   "metadata": {},
   "outputs": [],
   "source": []
  }
 ],
 "metadata": {
  "language_info": {
   "name": "python"
  },
  "orig_nbformat": 4
 },
 "nbformat": 4,
 "nbformat_minor": 2
}
